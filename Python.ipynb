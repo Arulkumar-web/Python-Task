{
  "nbformat": 4,
  "nbformat_minor": 0,
  "metadata": {
    "colab": {
      "provenance": [],
      "authorship_tag": "ABX9TyO6GG0xS/OPy8aVwj9OryAX",
      "include_colab_link": true
    },
    "kernelspec": {
      "name": "python3",
      "display_name": "Python 3"
    },
    "language_info": {
      "name": "python"
    }
  },
  "cells": [
    {
      "cell_type": "markdown",
      "metadata": {
        "id": "view-in-github",
        "colab_type": "text"
      },
      "source": [
        "<a href=\"https://colab.research.google.com/github/Arulkumar-web/Python-Task/blob/main/Python.ipynb\" target=\"_parent\"><img src=\"https://colab.research.google.com/assets/colab-badge.svg\" alt=\"Open In Colab\"/></a>"
      ]
    },
    {
      "cell_type": "markdown",
      "source": [
        "Task 1"
      ],
      "metadata": {
        "id": "QtjVUKvwHbVq"
      }
    },
    {
      "cell_type": "code",
      "execution_count": null,
      "metadata": {
        "colab": {
          "base_uri": "https://localhost:8080/"
        },
        "id": "gydjASoAHYZk",
        "outputId": "65c77247-0b46-4bbe-8c63-788846590383"
      },
      "outputs": [
        {
          "output_type": "stream",
          "name": "stdout",
          "text": [
            "Hello World\n"
          ]
        }
      ],
      "source": [
        "print(\"Hello World\")"
      ]
    },
    {
      "cell_type": "markdown",
      "source": [
        "Task 2"
      ],
      "metadata": {
        "id": "TI7G9SpvH_DX"
      }
    },
    {
      "cell_type": "code",
      "source": [
        "name=\"Krish\"\n",
        "number=77\n",
        "number1=93.56\n",
        "print(name,type(name))\n",
        "print(id(name))\n",
        "print(number,type(number))\n",
        "print(id(number))\n",
        "print(number1,type(number1))\n",
        "print(id(number1))"
      ],
      "metadata": {
        "colab": {
          "base_uri": "https://localhost:8080/"
        },
        "id": "LrvrA9UZICJv",
        "outputId": "99c01cc2-d5a3-4b92-fd09-8f44a537a44c"
      },
      "execution_count": 2,
      "outputs": [
        {
          "output_type": "stream",
          "name": "stdout",
          "text": [
            "Krish <class 'str'>\n",
            "135801546994352\n",
            "77 <class 'int'>\n",
            "135801975048816\n",
            "93.56 <class 'float'>\n",
            "135801548334800\n"
          ]
        }
      ]
    },
    {
      "cell_type": "code",
      "source": [
        "print(10/20)"
      ],
      "metadata": {
        "colab": {
          "base_uri": "https://localhost:8080/"
        },
        "id": "opYyHfunHxx-",
        "outputId": "90b610bd-a00b-4002-854d-77388aaea744"
      },
      "execution_count": 3,
      "outputs": [
        {
          "output_type": "stream",
          "name": "stdout",
          "text": [
            "0.5\n"
          ]
        }
      ]
    }
  ]
}